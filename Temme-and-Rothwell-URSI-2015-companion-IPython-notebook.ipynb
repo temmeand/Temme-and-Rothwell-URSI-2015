{
 "cells": [
  {
   "cell_type": "markdown",
   "metadata": {
    "code_folding": []
   },
   "source": [
    "# \tIPython Companion Notebook for \"Evaluation of Material Characterization Systems that Utilize a Two-Wire Transmission Line\"\n",
    "\n",
    "**Andrew Temme (temmeand@gmail.com) and Edward Rothwell (rothwell@egr.msu.edu), Michigan State University**\n",
    "\n",
    "2015 IEEE AP-S Symposium on Antennas and Propagation and North American Radio Science Meeting  \n",
    "Vancouver, British Columbia, Canada  \n",
    "21 July 2015\n",
    "\n",
    "Paper No. 4432  \n",
    "Paper TUP-UA.1P.40: EVALUATION OF MATERIAL CHARACTERIZATION SYSTEMS THAT UTILIZE A TWO-WIRE TRANSMISSION LINE  \n",
    "Session: TUP-UA.1P: Material, Modeling and Antenna Measurements  \n",
    "\n",
    "This IPython notebook was used to perform calculations and create figures for the presented poster. Please cite this notebook as\n",
    "    \n",
    "    A. Temme and E. Rothwell. \"Evaluation of Material Characterization Systems that Utilize a Two-Wire Transmission Line\" companion IPython notebook, github.com/temmeand, 2015 URSI North American Radio Science Meeting, Vancouver, Canada. 21 July 2015.\n",
    "\n",
    "This notebook is available as part of the Temme-and-Rothwell-URSI-2015 repo on [github.com/temmeand](github.com/temmeand) and [gitlab.msu.edu/temmeand](gitlab.msu.edu/temmeand)."
   ]
  },
  {
   "cell_type": "markdown",
   "metadata": {},
   "source": [
    "# Notebook setup"
   ]
  },
  {
   "cell_type": "code",
   "execution_count": 1,
   "metadata": {
    "code_folding": [
     0
    ],
    "collapsed": false
   },
   "outputs": [
    {
     "data": {
      "application/json": {
       "Software versions": [
        {
         "module": "Python",
         "version": "2.7.9 64bit [GCC 4.2.1 (Apple Inc. build 5577)]"
        },
        {
         "module": "IPython",
         "version": "3.0.0"
        },
        {
         "module": "OS",
         "version": "Darwin 14.4.0 x86_64 i386 64bit"
        },
        {
         "module": "numpy",
         "version": "1.9.2"
        },
        {
         "module": "scipy",
         "version": "0.15.1"
        },
        {
         "module": "matplotlib",
         "version": "1.4.3"
        }
       ]
      },
      "text/html": [
       "<table><tr><th>Software</th><th>Version</th></tr><tr><td>Python</td><td>2.7.9 64bit [GCC 4.2.1 (Apple Inc. build 5577)]</td></tr><tr><td>IPython</td><td>3.0.0</td></tr><tr><td>OS</td><td>Darwin 14.4.0 x86_64 i386 64bit</td></tr><tr><td>numpy</td><td>1.9.2</td></tr><tr><td>scipy</td><td>0.15.1</td></tr><tr><td>matplotlib</td><td>1.4.3</td></tr><tr><td colspan='2'>Mon Jul 27 10:30:01 2015 CDT</td></tr></table>"
      ],
      "text/latex": [
       "\\begin{tabular}{|l|l|}\\hline\n",
       "{\\bf Software} & {\\bf Version} \\\\ \\hline\\hline\n",
       "Python & 2.7.9 64bit [GCC 4.2.1 (Apple Inc. build 5577)] \\\\ \\hline\n",
       "IPython & 3.0.0 \\\\ \\hline\n",
       "OS & Darwin 14.4.0 x86\\_64 i386 64bit \\\\ \\hline\n",
       "numpy & 1.9.2 \\\\ \\hline\n",
       "scipy & 0.15.1 \\\\ \\hline\n",
       "matplotlib & 1.4.3 \\\\ \\hline\n",
       "\\hline \\multicolumn{2}{|l|}{Mon Jul 27 10:30:01 2015 CDT} \\\\ \\hline\n",
       "\\end{tabular}\n"
      ],
      "text/plain": [
       "Software versions\n",
       "Python 2.7.9 64bit [GCC 4.2.1 (Apple Inc. build 5577)]\n",
       "IPython 3.0.0\n",
       "OS Darwin 14.4.0 x86_64 i386 64bit\n",
       "numpy 1.9.2\n",
       "scipy 0.15.1\n",
       "matplotlib 1.4.3\n",
       "Mon Jul 27 10:30:01 2015 CDT"
      ]
     },
     "execution_count": 1,
     "metadata": {},
     "output_type": "execute_result"
    }
   ],
   "source": [
    "# imports\n",
    "# make sure that division is done as expected\n",
    "from __future__ import division\n",
    "\n",
    "# plotting setup\n",
    "%matplotlib inline\n",
    "import matplotlib.pyplot as plt\n",
    "\n",
    "# for 3d graphs\n",
    "from mpl_toolkits.mplot3d import axes3d\n",
    "\n",
    "# for legends of combined fig types\n",
    "import matplotlib.lines as mlines\n",
    "\n",
    "# numerical functions\n",
    "import numpy as np\n",
    "\n",
    "# need some constants\n",
    "from scipy.constants import epsilon_0, mu_0\n",
    "from scipy.constants import c as c_0\n",
    "from numpy import pi\n",
    "\n",
    "# RF tools!\n",
    "import skrf as rf\n",
    "\n",
    "# version information\n",
    "# %install_ext http://raw.github.com/jrjohansson/version_information/master/version_information.py\n",
    "%load_ext version_information\n",
    "%version_information numpy, scipy, matplotlib"
   ]
  },
  {
   "cell_type": "code",
   "execution_count": null,
   "metadata": {
    "code_folding": [],
    "collapsed": true
   },
   "outputs": [],
   "source": [
    "# colormap\n",
    "# you need the colormaps file from http://bids.github.io/colormap/\n",
    "import colormaps as cmaps\n",
    "cm_viridis = cmaps.viridis"
   ]
  },
  {
   "cell_type": "markdown",
   "metadata": {},
   "source": [
    "# Configuration"
   ]
  },
  {
   "cell_type": "markdown",
   "metadata": {},
   "source": [
    "Install the style sheet for plotting if needed."
   ]
  },
  {
   "cell_type": "code",
   "execution_count": null,
   "metadata": {
    "code_folding": [],
    "collapsed": false
   },
   "outputs": [],
   "source": [
    "# install style sheet\n",
    "# import shutil, matplotlib\n",
    "# shutil.copy('./skrf-white-background-style.mplstyle', matplotlib.get_configdir()+'/stylelib')"
   ]
  },
  {
   "cell_type": "markdown",
   "metadata": {
    "code_folding": [
     0
    ]
   },
   "source": [
    "Configuration settings"
   ]
  },
  {
   "cell_type": "code",
   "execution_count": null,
   "metadata": {
    "code_folding": [
     0
    ],
    "collapsed": false
   },
   "outputs": [],
   "source": [
    "# Plotting setup\n",
    "doPlot = True\n",
    "# doPlot = False\n",
    "\n",
    "plt.style.reload_library()\n",
    "plt.style.use('skrf-white-background-style')\n",
    "cmap = plt.get_cmap(name='RdBu_r')\n",
    "relcmap = cm_viridis\n",
    "plt.rcParams['savefig.dpi'] = 300\n",
    "\n",
    "# Run testing portions of code\n",
    "# doTest = True\n",
    "doTest = False\n",
    "\n",
    "# save\n",
    "# doSave = True\n",
    "doSave = False"
   ]
  },
  {
   "cell_type": "markdown",
   "metadata": {
    "code_folding": []
   },
   "source": [
    "# Figure 1, 2, 3\n",
    "\n",
    "Figures 1 and 2 are produced from HFSS models. These are available in the data directory as `data/sampleSideLength/model-for-images.hfss` and `data/pipe/pipe-3-color.hfss`, respectively. Figure 3 was created for the 2014 URSI presentation (Temme and Rothwell, 2014)."
   ]
  },
  {
   "cell_type": "markdown",
   "metadata": {},
   "source": [
    "# Figure 4 and 5 - Electric potential, electric field, and magnetic field\n",
    "\n",
    "## Electric Potential of a Two-Wire Transmission Line\n",
    "\n",
    "The electric potential of a two-wire transmission line can be used to find the electric field of the transmission line. Image theory is used to find line charges that are equivalent to the charge on the conductors. This assumes that  the current is uniformly distributed around the conductor.\n",
    "\n",
    "### Maths\n",
    "\n",
    "We begin with Example 2.9 of Section 2.10 (p. 69) in Plonsey and Collin. This example deals mainly with a line charge outside of a conductor. Image theory is used to find an equivalent line charge inside of the conductor. Equation (2.76) can then be used to find the potential at any point outside of the conductor,\n",
    "\n",
    "$$\n",
    "\\Phi(P) = \\frac{q_1}{4\\pi\\epsilon}\\ln\\left(\\frac{r_1}{r_2}\\right)^2+C.\\quad\\quad (2.76)\n",
    "$$\n",
    "\n",
    "In this formulation, the computing the square of the log causes the potential to loose polarity. I prefer the form\n",
    "$$\n",
    "\\Phi(P) = \\frac{q_1}{2\\pi\\epsilon}\\ln\\left(\\frac{r_1}{r_2}\\right)+C.\\quad\\quad (2.76)\n",
    "$$\n",
    "\n",
    "\n",
    "The geometry and variables are given in Figure 2.24; $r_1$ is the distance from the charge outside of the conductor to the observation point $P$ and $r_2$ is the distance from the charge inside of the conductor to $P$. $r$ is the distance from the center of the conductor to $P$. The distances from the center of the conductor to the charge outside and inside of the conductor are $R_1$ and $R_2$, respectively.\n",
    "\n",
    "By working through the example, we find that\n",
    "$$\n",
    "R_1=\\frac{D}{2}+\\sqrt{\\frac{D^2}{4}-a^2}\\quad\\quad(2.86a)\\\\\n",
    "R_2=\\frac{D}{2}-\\sqrt{\\frac{D^2}{4}-a^2}\\quad\\quad(2.86b)\n",
    "$$\n",
    "where $D=R_1+R_2$ is the center-to-center distance between conductors of the two-wire transmission line and $a$ is the radius of the conductors.\n",
    "\n",
    "From this geometry, we can find the coordinates of line charges. Line charge $q_1$ is located at $(-D/2+R_2,0)$ and $q_2$ is located at $(D/2-R_2)$. The distances $r_1$ and $r_2$ are then\n",
    "$$\n",
    "r_1 = \\sqrt{(P_x+D/2-R_2)^2+P_y^2}\\\\\n",
    "r_2 = \\sqrt{(P_x-D/2+R_2)^2+P_y^2}.\n",
    "$$\n",
    "\n",
    "The value of $q$ may be determined if the voltage difference between the two conductors is known by solving\n",
    "$$\n",
    "V_2-V_1 = \\frac{q}{2\\pi\\epsilon}\\ln\\left(\\frac{D+\\sqrt{D^2-4a^2}}{D-\\sqrt{D^2-4a^2}}\\right)\\\\\n",
    "V_2-V_1 = \\frac{q}{2\\pi\\epsilon}\\ln\\left(\\frac{R_1}{R_2}\\right).\n",
    "$$\n",
    "\n",
    "We should now be able to plot the potential given by Equation (2.76). The constant $C$ is determined by the ground reference.\n",
    "\n",
    "### Initial Computation\n",
    "\n",
    "Let us assume that there is a 1V potential between the conductors. The charge value is then\n",
    "$$\n",
    "1 = \\frac{q}{2\\pi\\epsilon}\\ln\\left(\\frac{R_1}{R_2}\\right)\\\\\n",
    "\\Rightarrow q= \\frac{2\\pi\\epsilon}{\\ln(R_1/R_2)}\n",
    "$$\n",
    "\n",
    "We'll start by setting the constant integration constant to zero, $C=0$. This corresponds to a the midpoint between the conductors being the reference point.\n",
    "\n",
    "## Electric Field\n",
    "\n",
    "For a TEM wave, the electric field, $\\vec{E}$, is given by\n",
    "$$\n",
    "\\vec{E} = -\\nabla_t \\Phi\\\\\n",
    "\\Rightarrow E_x = \\frac{-\\partial \\Phi}{\\partial x},\\quad\\quad E_y = \\frac{-\\partial \\Phi}{\\partial y}\n",
    "$$\n",
    "where $\\nabla_t$ is the gradient in the transverse ($\\hat{x}$ and $\\hat{y}$ for this problem) directions.\n",
    "\n",
    "Define\n",
    "$$\n",
    "d = \\frac{D}{2}-R_2\\\\\n",
    "$$\n",
    "and\n",
    "$$\n",
    "R_2 = \\frac{D}{2}-\\sqrt{\\frac{D^2}{4}-a^2}\n",
    "$$\n",
    "as before.\n",
    "The radial distances are then\n",
    "$$\n",
    "r_1 = \\sqrt{(x+d)^2+y^2}\\\\\n",
    "r_2 = \\sqrt{(x-d)^2+y^2}.\n",
    "$$\n",
    "We may then express the potential as\n",
    "$$\n",
    "\\Phi(x,y) = \\frac{q}{2\\pi\\epsilon}\\ln\\left(\\frac{r_1}{r_2}\\right)\\\\\n",
    "\\Phi(x,y) = \\frac{q}{2\\pi\\epsilon}\\ln\\left(\\frac{\\sqrt{(x+d)^2+y^2}}{\\sqrt{(x-d)^2+y^2}}\\right).\n",
    "$$\n",
    "Computation of the derivative gives\n",
    "$$\n",
    "\\frac{-\\partial\\Phi}{\\partial x} = \\frac{-q}{2\\pi\\epsilon}\\left[\\frac{x+d}{(x+d)^2+y^2}-\\frac{x-d}{(x-d)^2+y^2}\\right]=E_x\n",
    "$$\n",
    "and\n",
    "$$\n",
    "\\frac{-\\partial\\Phi}{\\partial y} = \\frac{-qy}{2\\pi\\epsilon}\n",
    "\\left(\\frac{1}{(x+d)^2+y^2}-\\frac{1}{(x-d)^2+y^2}\\right)=E_y.\n",
    "$$\n",
    "\n",
    "In summary after substituting in $r_1$ and $r_2$, the electric field is\n",
    "$$\n",
    "E_x = \\frac{-q}{2\\pi\\epsilon}\\left(\\frac{x+d}{r_1^2}-\\frac{x-d}{r_2^2}\\right)\\\\\n",
    "E_y = \\frac{-qy}{2\\pi\\epsilon}\\left(\\frac{1}{r_1^2}-\\frac{1}{r_2^2}\\right).\n",
    "$$\n",
    "\n",
    "## Magnetic Field\n",
    "\n",
    "The magnetic field is calculated from the electric field,\n",
    "$$\n",
    "\\vec{H} = \\frac{\\hat{k}\\times\\vec{E}}{\\eta}\\\\\n",
    "=\\frac{\\hat{z}\\times(\\hat{x}E_x+\\hat{y}E_y)}{\\eta}\\\\\n",
    "=\\hat{x}\\frac{-E_y}{\\eta}-\\hat{y}\\frac{-E_x}{\\eta}=\\hat{x}\\frac{-E_y}{\\eta}+\\hat{y}\\frac{E_x}{\\eta}.\n",
    "$$\n",
    "\n",
    "The magnetic field is therefore\n",
    "$$\n",
    "H_x = \\frac{-E_y}{\\eta} = \\frac{qy}{2\\pi\\epsilon\\eta}\\left(\\frac{1}{r_1^2}-\\frac{1}{r_2^2}\\right)\\\\\n",
    "H_y = \\frac{E_x}{\\eta} = \\frac{-q}{2\\pi\\epsilon\\eta}\\left(\\frac{x+d}{r_1^2}-\\frac{x-d}{r_2^2}\\right).\n",
    "$$\n",
    "\n",
    "## Problem Geometry\n",
    "\n",
    "Specify the problem geometry and parameters."
   ]
  },
  {
   "cell_type": "code",
   "execution_count": null,
   "metadata": {
    "code_folding": [],
    "collapsed": false
   },
   "outputs": [],
   "source": [
    "# Specs\n",
    "# Geometry\n",
    "D = 4\n",
    "a = 1\n",
    "\n",
    "# Electric specifications\n",
    "Vdiff = 1\n",
    "\n",
    "# Material\n",
    "eps_r = 6\n",
    "\n",
    "# Calculation Domain\n",
    "# x, y extents\n",
    "Pxmin = -8\n",
    "Pxmax = 8\n",
    "PxnumPts = 601\n",
    "Pymin = -8\n",
    "Pymax = 8\n",
    "PynumPts = 601\n",
    "\n",
    "# Plotting setup\n",
    "doPlot = True\n",
    "plotPad = 1.1\n",
    "lowestdB = -100\n",
    "cmap.set_bad(color='k')\n",
    "relcmap.set_bad(color='k')"
   ]
  },
  {
   "cell_type": "markdown",
   "metadata": {},
   "source": [
    "## Preflight Operations"
   ]
  },
  {
   "cell_type": "code",
   "execution_count": null,
   "metadata": {
    "code_folding": [
     0
    ],
    "collapsed": false
   },
   "outputs": [],
   "source": [
    "# Preflight Operations/Checks\n",
    "# Error checking\n",
    "assert a < D/2., \"Wires overlap. Need a<D/2\"\n",
    "assert eps_r >= 1, \"eps_r (%r), relative permittivity, must be 1 or larger.\" % eps_r\n",
    "assert Pxmin < Pxmax, \"Pxmin (%r) must be less than Pxmax (%r)\" % (Pxmin, Pxmax)\n",
    "assert Pymin < Pymax, \"Pymin (%r) must be less than Pymax (%r)\" % (Pymin, Pymax)\n",
    "assert PxnumPts >=1, \"PxnumPts (%r) must be greater than or equal to 1\" % PxnumPts\n",
    "assert PynumPts >=1, \"PynumPts (%r) must be greater than or equal to 1\" % PynumPts\n",
    "assert lowestdB < 0, \"lowestdB (%r) must be less than zero\" % lowestdB\n",
    "\n",
    "\n",
    "#----------\n",
    "# Maths\n",
    "\n",
    "# calculate constants\n",
    "eps = eps_r * epsilon_0\n",
    "eta = np.sqrt(mu_0/eps)\n",
    "\n",
    "R1 = D/2 + np.sqrt(D**2/4-a**2)\n",
    "R2 = D/2 - np.sqrt(D**2/4-a**2)\n",
    "d = D/2-R2\n",
    "assert R1 > 0, \"R1 (%r) is not positive\" % R1\n",
    "assert R2 > 0, \"R2 (%r) is not positive\" % R2\n",
    "assert R1 > R2, \"R1 (%r) must be longer than R2 (%r)\" % (R1, R2)\n",
    "assert d > 0, \"d (%r) is not positive\" % d\n",
    "\n",
    "q = 2*pi*eps*Vdiff/np.log(R1/R2)\n",
    "A = q/(2*pi*eps)\n",
    "# Vcond = abs(A*np.log(abs( (D/2-a+d)/(D/2-a-d) )))\n",
    "Vcond = Vdiff/2\n",
    "\n",
    "zeroLimit = Vcond*10**(lowestdB/20)\n",
    "\n",
    "print \"eps = \", eps\n",
    "print \"eta = \", eta\n",
    "print \"R1 = \", R1\n",
    "print \"R2 = \", R2\n",
    "print \"d = \", d\n",
    "print \"q = \", q\n",
    "print \"A = \", A\n",
    "print \"Vcond = \", Vcond\n",
    "print \"zeroLimit = \", zeroLimit\n",
    "\n",
    "# generate x and y vectors\n",
    "x = np.linspace(Pxmin,Pxmax,PxnumPts)\n",
    "y = np.linspace(Pymin,Pymax,PynumPts)\n",
    "\n",
    "# make arrays for the x, y at every point\n",
    "x, y = np.meshgrid(x,y)\n",
    "\n",
    "# create mask\n",
    "left = (x+D/2)**2+y**2 < a**2\n",
    "right = (x-D/2)**2+y**2 < a**2\n",
    "inside = left | right\n",
    "# x = np.ma.array(x,mask=inside)\n",
    "# y = np.ma.array(y,mask=inside)\n",
    "\n",
    "# calculate r1 and r2 distance for every pt\n",
    "r1sq = (x+d)**2 + y**2\n",
    "r2sq = (x-d)**2 + y**2\n",
    "r1 = np.sqrt(r1sq)\n",
    "r2 = np.sqrt(r2sq)\n",
    "assert (r1sq >= 0).all(), \"All elements of r1^2 are not positive\"\n",
    "assert (r2sq >= 0).all(), \"All elements of r2^2 are not positive\"\n",
    "assert (r1 >= 0).all(), \"All elements of r1 are not positive\"\n",
    "assert (r2 >= 0).all(), \"All elements of r2 are not positive\""
   ]
  },
  {
   "cell_type": "markdown",
   "metadata": {},
   "source": [
    "## Calculate Potential"
   ]
  },
  {
   "cell_type": "code",
   "execution_count": null,
   "metadata": {
    "code_folding": [
     0
    ],
    "collapsed": false
   },
   "outputs": [],
   "source": [
    "# find potential\n",
    "Phi = A*np.log(r1/r2)\n",
    "\n",
    "# set the potential inside of the conductors equal\n",
    "# to the outside of the conductor\n",
    "Phi[left] = -Vcond\n",
    "Phi[right] = Vcond\n",
    "\n",
    "# mask potential\n",
    "Phi = np.ma.array(Phi,mask=inside)\n",
    "# Phi[np.ma.where(np.ma.getmask(inside)==True)] = np.nan\n",
    "\n",
    "print \"Reference at x=0, the mid-point between the conductors\"\n",
    "print \"Voltage on the conductors +/-\", Vcond, \"V\""
   ]
  },
  {
   "cell_type": "markdown",
   "metadata": {},
   "source": [
    "## Calculate Electric and Magnetic Fields"
   ]
  },
  {
   "cell_type": "code",
   "execution_count": null,
   "metadata": {
    "code_folding": [
     0
    ],
    "collapsed": false
   },
   "outputs": [],
   "source": [
    "# Fields\n",
    "# E field\n",
    "Ex = -A*( (x+d)/r1sq - (x-d)/r2sq )\n",
    "Ey = -A*y*(1/r1sq - 1/r2sq)\n",
    "Emag = np.sqrt(Ex**2+Ey**2)\n",
    "maxE = abs(-A*(1/((D/2-a)+d) - 1/((D/2-a)-d)))\n",
    "\n",
    "# mask\n",
    "Ex = np.ma.array(Ex,mask=inside)\n",
    "Ey = np.ma.array(Ey,mask=inside)\n",
    "Emag = np.ma.array(Emag,mask=inside)\n",
    "\n",
    "#H field\n",
    "Hx = -Ey/eta\n",
    "Hy = Ex/eta\n",
    "# np.sqrt does not accept masked arrays but still returns something\n",
    "# this is messed up.\n",
    "# see https://github.com/numpy/numpy/issues/5406\n",
    "Hmag = np.ma.sqrt(Hx**2+Hy**2)\n",
    "maxH = maxE/eta\n",
    "\n",
    "# H is masked because it is derived from E fields\n",
    "\n",
    "print \"|Ex|_max = \", abs(Ex).max()\n",
    "print \"|Ey|_max = \", abs(Ey).max()\n",
    "maxIndex = np.unravel_index(Emag.argmax(), Emag.shape)\n",
    "print \"|E|_max = %r at (%r, %r)\"% ( Emag.max(), x[maxIndex], y[maxIndex])\n",
    "print \"Theoretical max \", maxE"
   ]
  },
  {
   "cell_type": "markdown",
   "metadata": {},
   "source": [
    "## Fig 4. Visualize Fields"
   ]
  },
  {
   "cell_type": "code",
   "execution_count": null,
   "metadata": {
    "code_folding": [],
    "collapsed": false
   },
   "outputs": [],
   "source": [
    "if doPlot:\n",
    "    fig, ax = plt.subplots()\n",
    "\n",
    "    # line widths for stream plots\n",
    "    ew = 10*Emag/maxE\n",
    "    hw = 5*Hmag/maxH\n",
    "\n",
    "    div = D-2*a\n",
    "    print div\n",
    "    # background heatmap for the potential\n",
    "    im = ax.pcolormesh(x/div, y/div, Phi, cmap=cmap)\n",
    "    cb = fig.colorbar(im)\n",
    "    cb.set_label(r'Potential (V)')\n",
    "\n",
    "    # Contour of magnetic field\n",
    "    con = ax.contour(x/div, y/div, Hmag, 10,colors='k', linewidths=2, linestyles='dashed')\n",
    "\n",
    "    # stream plots of fields\n",
    "    stm = ax.streamplot(x/div, y/div, Ex, Ey, density=1, linewidth=ew, color='#b74331') \n",
    "\n",
    "    _= ax.set_xlim([Pxmin/div,Pxmax/div])\n",
    "    _= ax.set_ylim([Pymin/div,Pymax/div])\n",
    "\n",
    "    _= ax.set_xlabel('x/(D-2a)')\n",
    "    _= ax.set_ylabel('y/(D-2a)')\n",
    "    _= ax.set_aspect('equal')\n",
    "\n",
    "    # legend\n",
    "    eline = mlines.Line2D([],[], c='#b74331', marker='>', ms=5, label='E field')\n",
    "    hline = mlines.Line2D([],[], c='k', ls='dashed', label='H field')\n",
    "    _= ax.legend(handles=[eline, hline], loc=4)\n",
    "    \n",
    "    if doSave:\n",
    "        fig.savefig(\"images/fields-and-potential.jpg\", dpi=300, transparent=True)"
   ]
  },
  {
   "cell_type": "markdown",
   "metadata": {
    "code_folding": []
   },
   "source": [
    "## Fig. 5 Relative Electric Field\n",
    "This one will probably throw a warning because of the labels."
   ]
  },
  {
   "cell_type": "code",
   "execution_count": null,
   "metadata": {
    "code_folding": [
     0
    ],
    "collapsed": false
   },
   "outputs": [],
   "source": [
    "# calculate the lowest field strength for the given dB\n",
    "print \"Low field strength cutoff:\", lowestdB, \"dB\"\n",
    "\n",
    "# set values less than dB limit to the limit\n",
    "EmagRelative = 20*np.log10(Emag/maxE)\n",
    "nearLimit = EmagRelative < lowestdB\n",
    "EmagRelative[nearLimit] = lowestdB\n",
    "\n",
    "if doPlot:\n",
    "    # plot potential\n",
    "    fig, ax = plt.subplots()\n",
    "\n",
    "    im = ax.pcolormesh(x/div, y/div, EmagRelative, cmap=relcmap)\n",
    "    con = ax.contour(x/div,y/div,EmagRelative,10,cmap=relcmap, linewidths=2)\n",
    "\n",
    "    _= ax.set_xlim([Pxmin/div,Pxmax/div])\n",
    "    _= ax.set_ylim([Pymin/div,Pymax/div])\n",
    "\n",
    "    cb = fig.colorbar(im)\n",
    "    cb.set_label(r'E-Field Magnitude Relative to Maximum (dB)')\n",
    "    \n",
    "    _= ax.clabel(con, inline=False, fontsize=8, colors='k')\n",
    "\n",
    "    _= ax.set_xlabel('x/(D-2a)')\n",
    "    _= ax.set_ylabel('y/(D-2a)')\n",
    "    _= ax.set_aspect('equal')\n",
    "    \n",
    "    if doSave:\n",
    "        fig.savefig(\"images/EfieldRelative.jpg\",dpi=300,transparent=True)"
   ]
  },
  {
   "cell_type": "markdown",
   "metadata": {
    "code_folding": [
     0
    ]
   },
   "source": [
    "# Fig. 6"
   ]
  },
  {
   "cell_type": "markdown",
   "metadata": {
    "code_folding": [
     0
    ]
   },
   "source": [
    "## Two-Wire Transmission Line Parameters\n",
    "The transmission line parameters for a two-wire transmission line are\n",
    "\n",
    "$$ R = \\sqrt{\\frac{\\omega \\mu_c}{2\\pi^2 a^2 \\sigma_c\\left[1-(2a/D)^2\\right]}}$$\n",
    "\n",
    "$$L = \\frac{\\mu}{\\pi}\\cosh^{-1}\\left(\\frac{D}{2a}\\right)$$\n",
    "\n",
    "$$G = \\frac{\\omega\\pi\\epsilon^{\\prime\\prime}}{\\cosh^{-1}(D/2a)}$$\n",
    "\n",
    "$$C = \\frac{\\pi\\epsilon^{\\prime}}{\\cosh^{-1}(D/2a)}$$\n",
    "\n",
    "where $D$ is the center-to-center distance, $a$ is the radius of the wire, $\\sigma_c$ is the conductivity of the wire, $\\mu_c$ is the permeability of the wire (usually $\\mu_c=\\mu_0$), and finally $\\mu$ and $\\epsilon^c=\\epsilon^\\prime-j\\epsilon^{\\prime\\prime}$ are the permeability and permittivity, respectively, of the material surrounding the wires.\n",
    "\n",
    "The characteristic impedance of the transmission line is given by\n",
    "\n",
    "$$Z_0 = \\sqrt{\\frac{R+j\\omega L}{G+j\\omega C}}$$\n",
    "\n",
    "and the complex propagation constant is\n",
    "\n",
    "$$\\gamma = \\alpha + j\\beta = \\sqrt{(R+j\\omega L)(G+j\\omega C)}.$$"
   ]
  },
  {
   "cell_type": "code",
   "execution_count": null,
   "metadata": {
    "code_folding": [],
    "collapsed": true
   },
   "outputs": [],
   "source": [
    "def twoWireParameters(freq, a, D, sigma_c=np.inf, mu_c=1,\n",
    "                      eps_r = 1, tanDelta = 0, mu_r=1,\n",
    "                      unitsScale=1):\n",
    "    \"\"\"\n",
    "    Return R, L, G, C, Z_0 for a two-wire line\n",
    "    \n",
    "    Calculates and returns the resistance, impedance, conductance,\n",
    "    and capacitance for a two-wire transmission line. Geometric and \n",
    "    electrical properties are given for the wire and the media in \n",
    "    which the wires are located.\n",
    "    \n",
    "    This function is/will be added to Scikit-rf.\n",
    "    \n",
    "    Parameters\n",
    "    ----------\n",
    "    freq : scalar\n",
    "        Frequency at which the parameters should be calculated\n",
    "    a : scalar\n",
    "        Wire radius\n",
    "    D : scalar\n",
    "        center-to-center distance of the wires\n",
    "    sigma_c : scalar\n",
    "        Conductivity of the wires\n",
    "    mu_c : scalar, optional\n",
    "        Relative permeability of the wires. Default is 1.\n",
    "    eps_r : scalar, optional\n",
    "        Relative permittivity of the environment. Used as\n",
    "        epsilon = eps_r*eps_0*(1-j*tanDelta). Default is 1.\n",
    "    tanDelta : scalar, optional\n",
    "        Loss tangent of the environment. Used as\n",
    "        epsilon = eps_r*eps_0*(1-j*tanDelta). Default is 0.\n",
    "    mu_r : scalar, optional\n",
    "        Relative permeability of the environment. Default is 1\n",
    "    unitsScale : scalar, optional if using meters\n",
    "        Scaling factor for units. For mm, use 1e-3, for in use\n",
    "        0.0254.\n",
    "        \n",
    "    Returns\n",
    "    -------\n",
    "        R : scalar\n",
    "            Resistance of the two-wire transmission line\n",
    "        L : scalar\n",
    "            Impedance of the two-wire transmission line\n",
    "        G : scalar\n",
    "            Conductance of the two-wire transmission line\n",
    "        C : scalar\n",
    "            Capacitance of the two-wire transmission line\n",
    "        Z_0 : scalar\n",
    "            Complex impedance of the two-wire transmission line\n",
    "    \"\"\"\n",
    "    #from __future__ import division\n",
    "    from scipy.constants import epsilon_0, pi, mu_0\n",
    "    \n",
    "    # Scale dimensions\n",
    "    a = a*unitsScale\n",
    "    D = D*unitsScale\n",
    "    eps_sgl = epsilon_0*eps_r\n",
    "    eps_dbl = epsilon_0*eps_r*tanDelta\n",
    "    \n",
    "    omega=2*pi*freq\n",
    "    #delta_cond = 1/np.sqrt(const.pi*freq*sigma_c)\n",
    "    \n",
    "    if  ( (type(D) is float and D <= (2*a))\n",
    "         or (type(D) is np.ndarray and np.any(D <= (2*a))) ):\n",
    "        raise ValueError('Center to center spacing is less than twice the wire radius')\n",
    "    \n",
    "    invCosh = np.arccosh(D/(2*a))\n",
    "    \n",
    "    R = np.sqrt(omega*mu_c*mu_0/(2*pi**2*a**2*sigma_c*(1-(2*a/D)**2)))\n",
    "    G = (pi*omega*eps_dbl)/invCosh\n",
    "    L = mu_0/(pi)*invCosh\n",
    "    C = pi*eps_sgl/invCosh\n",
    "    \n",
    "    if type(freq) is np.ndarray:\n",
    "        G = G*ones(freq.shape)\n",
    "        L = L*ones(freq.shape)\n",
    "        C = C*ones(freq.shape)\n",
    "    \n",
    "    Z_0 = np.sqrt((R+1j*omega*L)/(G+1j*omega*C))\n",
    "\n",
    "    return R, L, G, C, Z_0"
   ]
  },
  {
   "cell_type": "markdown",
   "metadata": {
    "code_folding": []
   },
   "source": [
    "## Fig 6. (a), (b) Gamma vs eps and tanDelta"
   ]
  },
  {
   "cell_type": "code",
   "execution_count": null,
   "metadata": {
    "code_folding": [],
    "collapsed": false
   },
   "outputs": [],
   "source": [
    "# Variable eps_r, copper transmission line\n",
    "\n",
    "# Computation domain\n",
    "eps_r = np.linspace(1,10,201)\n",
    "tanDelta = np.linspace(0,0.2,201)\n",
    "\n",
    "# create a grid\n",
    "eps_r, tanDelta = np.meshgrid(eps_r, tanDelta)\n",
    "\n",
    "Dovera = 5\n",
    "\n",
    "# define the radius and seperation distance\n",
    "a = 1e-3/2 # radius\n",
    "D = Dovera*a # seperation distance\n",
    "\n",
    "# define other parameters\n",
    "freq = 500e6\n",
    "# tanDelta = 0\n",
    "unitsScale = 1\n",
    "sigma_c = 5.96*10**7\n",
    "# sigma_c = np.inf\n",
    "\n",
    "omega = 2*pi*freq\n",
    "\n",
    "R, L, G, C, Z_c = twoWireParameters(freq, a, D, eps_r=1, sigma_c=sigma_c, unitsScale=unitsScale)\n",
    "gamma_c = np.sqrt((R+1j*omega*L)*(G+1j*omega*C))\n",
    "\n",
    "R, L, G, C, Z = twoWireParameters(freq, a, D, eps_r=eps_r, tanDelta=tanDelta, \n",
    "                                  sigma_c=sigma_c, unitsScale=unitsScale)\n",
    "gamma = np.sqrt((R+1j*omega*L)*(G+1j*omega*C))\n",
    "\n",
    "alpha = gamma.real/gamma_c.real\n",
    "beta = gamma.imag/gamma_c.imag\n",
    "\n",
    "if doPlot:\n",
    "    fig = plt.figure()\n",
    "    ax = fig.gca(projection='3d')\n",
    "\n",
    "    surf = ax.plot_surface(eps_r, tanDelta, alpha, rstride=10, cstride=10, \n",
    "                           alpha=0.5, cmap=relcmap, lw=0, antialiased=False)\n",
    "\n",
    "    cset = ax.contour(eps_r, tanDelta, alpha, 5, zdir='x', offset=eps_r.min(), cmap=relcmap)\n",
    "    cset = ax.contour(eps_r, tanDelta, alpha, 5, zdir='y', offset=tanDelta.max(), cmap=relcmap)\n",
    "    cset = ax.contourf(eps_r, tanDelta, alpha, 5, zdir='z', offset=alpha.min(), cmap=relcmap)\n",
    "\n",
    "    cbar = fig.colorbar(surf)\n",
    "    cbar.solids.set_edgecolor(\"face\")\n",
    "\n",
    "    _ = ax.set_xlabel(r'$\\epsilon_r$')\n",
    "    _ = ax.set_ylabel(r'$\\tan\\delta$')\n",
    "    _ = ax.set_zlabel(r'$\\alpha/\\alpha_0$ with copper')\n",
    "    if doSave:\n",
    "        fig.savefig(\"images/alpha.eps\",transparent=True)\n",
    "        fig.savefig(\"images/alpha.svg\",transparent=True)\n",
    "        fig.savefig(\"images/alpha.jpg\",dpi=300,transparent=True)\n",
    "\n",
    "    # ---\n",
    "    fig = plt.figure()\n",
    "    ax = fig.gca(projection='3d')\n",
    "\n",
    "    surf = ax.plot_surface(eps_r, tanDelta, beta, rstride=10, cstride=10, \n",
    "                           alpha=0.8, cmap=relcmap, lw=0, antialiased=False)\n",
    "    cset = ax.contour(eps_r, tanDelta, beta, 5, zdir='x', offset=eps_r.min(), cmap=relcmap)\n",
    "    cset = ax.contour(eps_r, tanDelta, beta, 5, zdir='y', offset=tanDelta.max(), cmap=relcmap)\n",
    "    cset = ax.contourf(eps_r, tanDelta, beta, 5, zdir='z', offset=beta.min(), cmap=relcmap)\n",
    "    \n",
    "    cbar = fig.colorbar(surf)\n",
    "    cbar.solids.set_edgecolor(\"face\")\n",
    "\n",
    "    _ = ax.set_xlabel(r'$\\epsilon_r$')\n",
    "    _ = ax.set_ylabel(r'$\\tan\\delta$')\n",
    "    _ = ax.set_zlabel(r'$\\beta/\\beta_0$ with copper')\n",
    "    if doSave:\n",
    "        fig.savefig(\"images/beta.eps\",transparent=True)\n",
    "        fig.savefig(\"images/beta.svg\",transparent=True)\n",
    "        fig.savefig(\"images/beta.jpg\",dpi=300,transparent=True)"
   ]
  },
  {
   "cell_type": "markdown",
   "metadata": {
    "code_folding": [
     0
    ]
   },
   "source": [
    "## Fig 6. (c) Thickness for Desired Phase Change"
   ]
  },
  {
   "cell_type": "code",
   "execution_count": null,
   "metadata": {
    "code_folding": [
     0
    ],
    "collapsed": false
   },
   "outputs": [],
   "source": [
    "# thickness for desired phase change vs eps_r\n",
    "f = 1.5e9\n",
    "a = 1e-3\n",
    "D = 10*a\n",
    "copper = 5.96e7\n",
    "pec = np.inf\n",
    "eps_r = np.linspace(2,10,201)\n",
    "tand = 0.2\n",
    "# eps_r = 2.4\n",
    "# tand = np.linspace(0,0.2,201)\n",
    "\n",
    "phaseDiff = 1\n",
    "phaseDiff = np.deg2rad(phaseDiff)\n",
    "\n",
    "omega = 2*pi*f\n",
    "\n",
    "R, L, G, C, Z0 = twoWireParameters(f, a, D, copper, 1, 1, 0)\n",
    "gamma_0 = np.sqrt((R+1j*omega*L)*(G+1j*omega*C))\n",
    "beta_0 = gamma_0.imag\n",
    "\n",
    "R, L, G, C, Z0 = twoWireParameters(f, a, D, copper, 1, eps_r, tand)\n",
    "gamma_1 = np.sqrt((R+1j*omega*L)*(G+1j*omega*C))\n",
    "beta_1 = gamma_1.imag\n",
    "\n",
    "length = phaseDiff/(beta_1-beta_0)\n",
    "lw = length*f/(1e-3*1e9*phaseDiff*180/pi)\n",
    "\n",
    "if doPlot:\n",
    "    fig, ax = plt.subplots()\n",
    "    \n",
    "    lin = ax.plot(eps_r,lw)\n",
    "    \n",
    "    _= ax.set_xlabel(r'$\\epsilon_r$')\n",
    "    _= ax.set_ylabel(r'$l\\omega/(1mm\\ 1GHz\\ \\Delta\\phi^\\circ)$')\n",
    "\n",
    "# --------------------------------------------\n",
    "# now calculate the 2nd axis\n",
    "\n",
    "# thickness for desired phase change vs tandelta\n",
    "f = 1.5e9\n",
    "a = 1e-3\n",
    "D = 10*a\n",
    "copper = 5.96e7\n",
    "pec = np.inf\n",
    "# eps_r = np.linspace(2,10,201)\n",
    "# tand = 0.2\n",
    "eps_r = 2.4\n",
    "tand = np.linspace(0,.2,201)\n",
    "\n",
    "phaseDiff = 1\n",
    "phaseDiff = np.deg2rad(phaseDiff)\n",
    "\n",
    "omega = 2*pi*f\n",
    "\n",
    "R, L, G, C, Z0 = twoWireParameters(f, a, D, copper, 1, 1, 0)\n",
    "gamma_0 = np.sqrt((R+1j*omega*L)*(G+1j*omega*C))\n",
    "beta_0 = gamma_0.imag\n",
    "\n",
    "R, L, G, C, Z0 = twoWireParameters(f, a, D, copper, 1, eps_r, tand)\n",
    "gamma_1 = np.sqrt((R+1j*omega*L)*(G+1j*omega*C))\n",
    "beta_1 = gamma_1.imag\n",
    "\n",
    "length = phaseDiff/(beta_1-beta_0)\n",
    "lw = length*f/(1e-3*1e9*phaseDiff*180/pi)\n",
    "\n",
    "if doPlot:\n",
    "    axT = ax.twinx()\n",
    "    axR = axT.twiny()\n",
    "    \n",
    "    lin = axR.plot(tand,lw, ls='-.',c=plt.rcParams['axes.color_cycle'][1])\n",
    "    \n",
    "    _= axR.set_xlabel(r'$\\tan\\delta$')\n",
    "    _= axT.set_ylabel(r'$l\\omega/(1mm\\ 1GHz\\ \\Delta\\phi^\\circ)$')\n",
    "    \n",
    "    # legend\n",
    "    bottomc = plt.rcParams['axes.color_cycle'][0]\n",
    "    topc = plt.rcParams['axes.color_cycle'][1]\n",
    "#     bottom = mlines.Line2D([],[], c=bottomc, label=r'$\\epsilon_r$')\n",
    "#     top = mlines.Line2D([],[], c=topc, ls='-.', label=r'$\\tan\\delta$')\n",
    "#     _= ax.legend(handles=[bottom, top], loc='upper right')\n",
    "    \n",
    "    # adjust so that the ticks/grids line up\n",
    "    _= ax.set_ylim([0.2,1.6])\n",
    "    _= axR.set_ylim([1.490,1.525])\n",
    "    \n",
    "    # arrows pointing to axes\n",
    "\n",
    "    _= ax.annotate(\"\", xy=(4,.4), xytext=(5, 0.6),\n",
    "                   arrowprops=dict(arrowstyle=\"->\", color=bottomc,lw=1))\n",
    "    _= ax.text(3.8,.6,r'$\\tan\\delta=0.2$',color=bottomc)\n",
    "    _= ax.annotate(\"\", xy=(9,1), xytext=(8, .8),\n",
    "                   arrowprops=dict(arrowstyle=\"->\", color=topc,lw=1))\n",
    "    _= ax.text(8.5,.8, r\"$\\epsilon_r=2.4$\", color=topc)\n",
    "    \n",
    "    if doSave:\n",
    "        fig.savefig(\"images/1deglength.eps\",transparent=True)\n",
    "        fig.savefig(\"images/1deglength.svg\",transparent=True)\n",
    "        fig.savefig(\"images/1deglength.jpg\",dpi=300,transparent=True)"
   ]
  },
  {
   "cell_type": "markdown",
   "metadata": {},
   "source": [
    "## Fig 6. (d) Input Impedance"
   ]
  },
  {
   "cell_type": "code",
   "execution_count": null,
   "metadata": {
    "code_folding": [
     0
    ],
    "collapsed": false
   },
   "outputs": [],
   "source": [
    "if doPlot:\n",
    "    freq = 1e9\n",
    "    a = .125/2  # wire radius\n",
    "    D = np.linspace(2*a+1e-6, 10*a, 200)  # center to center distance\n",
    "    sigma_c = np.inf  # conductivity of wire\n",
    "    mu_c = 1  # permeability of wire\n",
    "    eps_r = 1  # permittivity of surrounding media\n",
    "    tanDelta = 0  # loss tangent of surrounding media\n",
    "    mu_r = 1  # permeability of surrounding media\n",
    "    unitsScale = 0.0254  # multiply by to get meters (inches:0.0254)\n",
    "\n",
    "    R, L, G, C, Z = twoWireParameters(freq, a, D, sigma_c, mu_c, eps_r, tanDelta, mu_r, unitsScale)\n",
    "\n",
    "    fig, ax = plt.subplots()\n",
    "\n",
    "    ax.plot(D/a,abs(Z))\n",
    "    ax.set_xlabel(r'$D/a$')\n",
    "    ax.set_ylabel(r'Characteristic Impedance/$\\Omega$')\n",
    "    ax.text(5,100,\"PEC wires in free space\\n\\nTemme et al. 2014\")\n",
    "\n",
    "    if doSave:\n",
    "        fig.savefig(\"images/zIn.eps\",transparent=True)\n",
    "        fig.savefig(\"images/zIn.svg\",transparent=True)\n",
    "        fig.savefig(\"images/zIn.jpg\",dpi=300,transparent=True)"
   ]
  },
  {
   "cell_type": "markdown",
   "metadata": {
    "code_folding": []
   },
   "source": [
    "# Fig. 7 Radiation Resistance"
   ]
  },
  {
   "cell_type": "code",
   "execution_count": null,
   "metadata": {
    "code_folding": [
     0
    ],
    "collapsed": false
   },
   "outputs": [],
   "source": [
    "def radiationResistance(freq, a, D, sigma_c=np.inf, mu_c=1,\n",
    "                      eps_r = 1, tanDelta = 0, mu_r=1, length=1,\n",
    "                      zLoad = 50, unitsScale=1):\n",
    "    \"\"\"\n",
    "    Return the radiation resistance of a two-wire line of given length\n",
    "    \n",
    "    Returns the radiation resistance of a two-wire transmission line.\n",
    "    Geometric and electrical properties are given for the wire and the\n",
    "    media in which the wires are located.\n",
    "    \n",
    "    This function does not use an ``effective'' seperation distance as\n",
    "    would be needed when the wires are close\n",
    "    \n",
    "    Parameters\n",
    "    ----------\n",
    "    freq : scalar\n",
    "        Frequency at which the parameters should be calculated\n",
    "    a : scalar\n",
    "        Wire radius\n",
    "    D : scalar\n",
    "        center-to-center distance of the wires\n",
    "    sigma_c : scalar\n",
    "        Conductivity of the wires\n",
    "    mu_c : scalar, optional\n",
    "        Relative permeability of the wires. Default is 1.\n",
    "    eps_r : scalar, optional\n",
    "        Relative permittivity of the environment. Used as\n",
    "        epsilon = eps_r*eps_0*(1-j*tanDelta). Default is 1.\n",
    "    tanDelta : scalar, optional\n",
    "        Loss tangent of the environment. Used as\n",
    "        epsilon = eps_r*eps_0*(1-j*tanDelta). Default is 0.\n",
    "    mu_r : scalar, optional\n",
    "        Relative permeability of the environment. Default is 1.\n",
    "    length : scalar, optional\n",
    "        The length of the transmission line. Default is 1.\n",
    "    zLoad : complex scalar, optional\n",
    "        Complexe impedance of the load. Default is 50 ohms.\n",
    "    unitsScale : scalar, optional if using meters\n",
    "        Scaling factor for units. For mm, use 1e-3, for in use\n",
    "        0.0254.\n",
    "        \n",
    "    Returns\n",
    "    -------\n",
    "        rRad : scalar\n",
    "            Radiation resistance of a two-wire tranmission line\n",
    "    \"\"\"\n",
    "    #from __future__ import division\n",
    "    import scipy.constants as const\n",
    "\n",
    "    # Get the circuit parameters of the line\n",
    "    R, L, G, C, z0 = twoWireParameters(freq, a, D, sigma_c, mu_c,\n",
    "                      eps_r, tanDelta, mu_r, unitsScale)\n",
    "    \n",
    "    # Scale dimensions\n",
    "    a = a*unitsScale\n",
    "    D = D*unitsScale\n",
    "    length = length*unitsScale\n",
    "    eps_sgl = const.epsilon_0*eps_r\n",
    "    eps_dbl = const.epsilon_0*eps_r*tanDelta\n",
    "    \n",
    "    omega=2*pi*freq\n",
    "    \n",
    "    eta1 = np.sqrt((const.mu_0*mu_r)/(const.epsilon_0*eps_r))\n",
    "    beta1 = omega*np.sqrt(const.mu_0*mu_r*const.epsilon_0*eps_r)\n",
    "    gamma = np.sqrt((R+1j*2*pi*freq * L)*(G+1j*2*pi*freq*C))\n",
    "    alpha = gamma.real\n",
    "    beta = gamma.imag\n",
    "    thetaP = np.arctanh(zLoad/z0)\n",
    "    rhoL = thetaP.real\n",
    "    twoBetaLen = 2*beta1*length\n",
    "    rRad = ( eta1/(4*pi)*(beta1*D)**2 * np.cosh(alpha*length+2*rhoL)\n",
    "            / abs(np.cosh(gamma*length+thetaP))**2\n",
    "            *(np.cosh(alpha*length) - np.sin(twoBetaLen)/twoBetaLen)\n",
    "            )\n",
    "    \n",
    "    # rRad = eta1/(2*pi)*beta1**2*D**2*(1-sin(2*beta*length)/(2*beta*length))\n",
    "    # rRad = 30*beta1**2*D**2*(1-sin(twoBetaLen)/twoBetaLen)\n",
    "    # print \"num:\", np.cosh(alpha*length[0]+2*rhoL)\n",
    "    # print \"denom:\", abs(np.cosh(gamma*length[0]+thetaP))**2\n",
    "    # print \"alpha * length:\", alpha*length[0]\n",
    "    # print \"as+2p:\", alpha*length[0]+rhoL*2\n",
    "    return rRad"
   ]
  },
  {
   "cell_type": "code",
   "execution_count": null,
   "metadata": {
    "code_folding": [],
    "collapsed": false
   },
   "outputs": [],
   "source": [
    "# (non)resonant cases\n",
    "eta = np.sqrt(mu_0/epsilon_0)\n",
    "betaL = np.linspace(1e-9,8*pi/2,200)\n",
    "res = eta/4/pi*(1-np.sin(2*betaL)/(2*betaL))\n",
    "non = res*2\n",
    "lim = 30*np.ones(np.shape(betaL))\n",
    "\n",
    "lineColor = plt.rcParams['axes.color_cycle'][0]\n",
    "color2 = plt.rcParams['axes.color_cycle'][1]\n",
    "\n",
    "# ----------------------------------------------------\n",
    "# Z0/2\n",
    "freq = 1e9\n",
    "a = 1e-3  # wire radius\n",
    "D = 10*a  # center to center distance\n",
    "sigma_c = np.inf  # conductivity of wire\n",
    "mu_c = 1  # permeability of wire\n",
    "eps_r = 1  # permittivity of surrounding media\n",
    "tanDelta = 0  # loss tangent of surrounding media\n",
    "mu_r = 1  # permeability of surrounding media\n",
    "unitsScale = 1  # multiply by to get meters (inches:0.0254)\n",
    "R, L, G, C, Z = twoWireParameters(freq, a, D, sigma_c, mu_c, eps_r, tanDelta, mu_r, unitsScale)\n",
    "gamma = np.sqrt((R+1j*2*pi*freq * L)*(G+1j*2*pi*freq*C))\n",
    "beta = gamma.imag\n",
    "\n",
    "betaLen = np.linspace(1e-6,4*pi,100)\n",
    "length = betaLen/beta\n",
    "\n",
    "rRad = radiationResistance(freq, a, D, length=length, zLoad=Z*.5, unitsScale=1)\n",
    "\n",
    "betaFree = 2*pi*freq*np.sqrt(epsilon_0*mu_0)\n",
    "\n",
    "if doPlot:\n",
    "    fig, ax1 = plt.subplots()\n",
    "\n",
    "    ax1.plot(betaL, res, label='Resnonant')\n",
    "    ax1.plot(betaL, res*2, ls=':', label='Nonresonant/2')\n",
    "#     ax1.plot(betaL, lim, ls='--', color=lineColor,label='Limit')\n",
    "    lin = ax1.plot(betaLen,rRad/(betaFree**2*(D)**2),ls='--',label=r'$Z_0/2$')\n",
    "\n",
    "    ax1.legend(loc='lower right', ncol=3)\n",
    "    \n",
    "    ax1.set_xlabel(r\"$\\beta l$\")\n",
    "    ax1.set_ylabel(r\"Radiation resistance$/(\\eta_{1}\\beta_1^2D^2\\ \\Omega)$\")\n",
    "    \n",
    "    ax1.set_xlim([0,8*pi/2])\n",
    "    ax1.set_xticks([0,pi/2,pi,3*pi/2,2*pi,5*pi/2,3*pi,7*pi/2,4*pi])\n",
    "    ax1.set_xticklabels([\"\",r\"$\\pi/2$\",r\"$\\pi$\",r\"$3\\pi/2$\",r\"$2\\pi$\",\n",
    "                         r\"$5\\pi/2$\",r\"$3\\pi$\",r\"$7\\pi/2$\",r\"$4\\pi$\"])\n",
    "    # equations\n",
    "#     ax1.text(pi,20,r'$R^{rad}=\\frac{\\eta_1}{4\\pi}\\beta_1^2 D^2 \\frac{\\cosh(\\alpha s + 2\\rho_L)}{\\left|\\cosh(\\gamma s + \\theta^\\prime_L)\\right|^2}\\left(\\cosh(\\alpha s)-\\frac{\\sin(2\\beta s)}{2\\beta s}\\right)$')\n",
    "#     ax1.text(pi,16,r'$\\theta^\\prime_L = \\rho_L+j\\Phi_L^\\prime=\\tanh^{-1}\\left(\\frac{Z_L}{Z_0}\\right)$')\n",
    "#     ax1.text(pi,11,r'$R_{res}^{rad}=\\frac{\\eta_1}{4\\pi}\\beta_1^2 D^2 \\sec^2(\\beta s+\\Phi^\\prime_L)\\left(1-\\frac{\\sin(2\\beta_1 s)}{2\\beta_1 s}\\right)=\\frac{\\eta_1}{4\\pi}\\beta_1^2D^2$')\n",
    "#     ax1.text(pi, 7,r'$R_{non}^{rad}=\\frac{\\eta_1}{4\\pi}\\beta_1^2 D^2 \\left(\\cosh(\\alpha s)-\\frac{\\sin(2\\beta s)}{2\\beta s}\\right)=\\frac{\\eta_1}{2\\pi}\\beta_1^2D^2$')\n",
    "#     ax1.text(pi, 3,'King, 1955')\n",
    "\n",
    "    if doSave:\n",
    "        fig.savefig(\"images/rRad.eps\",transparent=True)\n",
    "        fig.savefig(\"images/rRad.svg\",transparent=True)\n",
    "        fig.savefig(\"images/rRad.jpg\",dpi=300,transparent=True)"
   ]
  },
  {
   "cell_type": "markdown",
   "metadata": {},
   "source": [
    "# Fig 8 Sample Side Length"
   ]
  },
  {
   "cell_type": "code",
   "execution_count": null,
   "metadata": {
    "code_folding": [],
    "collapsed": false
   },
   "outputs": [],
   "source": [
    "# sample side length\n",
    "samples = rf.NetworkSet(rf.read_all('data/sampleSideLength',contains=\"scale\"))\n",
    "samples.sort()\n",
    "for index, s in enumerate(samples):\n",
    "    print \"[%2r] %r\" % (index, s)\n",
    "    \n",
    "ref = rf.Network('data/sampleSideLength/scale-20.s2p')\n",
    "if doPlot:\n",
    "    fig, ax = plt.subplots()\n",
    "\n",
    "ix = np.array([0,4,6,7,8,9,10,11,12,1,2,3,5])\n",
    "for a in ix:\n",
    "    s = samples[a]\n",
    "    diff = s.s21.s_deg_unwrap-ref.s21.s_deg_unwrap\n",
    "    diff = diff[:,0,0]\n",
    "    if doPlot:\n",
    "        lin = ax.plot(ref.f/1e9,diff,label=s.name)\n",
    "\n",
    "if doPlot:\n",
    "    _= ax.set_xlabel('Frequency (GHz)')\n",
    "    _= ax.set_ylabel(r'$\\angle S_{i} - \\angle S_{ref}$')\n",
    "\n",
    "    _= ax.legend()\n",
    "    _= ax.set_xlim([0.5,6])\n",
    "    _= ax.set_ylim([-1, 30])\n",
    "    \n",
    "    if doSave:\n",
    "        fig.savefig(\"images/sampleSideLength.eps\",transparent=True)\n",
    "        fig.savefig(\"images/sampleSideLength.svg\",transparent=True)\n",
    "        fig.savefig(\"images/sampleSideLength.jpg\",dpi=300,transparent=True)"
   ]
  },
  {
   "cell_type": "markdown",
   "metadata": {
    "code_folding": []
   },
   "source": [
    "# Fig 9 Shielded Pair"
   ]
  },
  {
   "cell_type": "code",
   "execution_count": null,
   "metadata": {
    "code_folding": [
     0
    ],
    "collapsed": false
   },
   "outputs": [],
   "source": [
    "# shielded pair\n",
    "b = 1\n",
    "a1 = b/10\n",
    "a2 = np.linspace(2*(b-2*a1), 10*(b-2*a1), 201)\n",
    "factor=.99\n",
    "\n",
    "k = 2*np.log(b*(a2**2-b**2/4)/(a1*(a2**2+b**2/4)))\n",
    "f = 2*np.log(b/a1)*np.ones(a2.shape)\n",
    "lim = f*factor\n",
    "\n",
    "if doPlot:\n",
    "    fig, ax = plt.subplots()\n",
    "    lin = ax.plot(a2/(b-2*a1),k,label=\"Shielded\")\n",
    "    lin = ax.plot(a2/(b-2*a1),f,label=\"Unshielded\")\n",
    "    lin = ax.plot(a2/(b-2*a1),lim,ls='-.',label=str(factor*100)+'%')\n",
    "    _= ax.legend()\n",
    "    _= ax.set_xlabel(r'Distance away/gap')\n",
    "    _= ax.set_ylabel(r'$k$ factor')\n",
    "    if doSave:\n",
    "        fig.savefig(\"images/shieldedPair.eps\",transparent=True)\n",
    "        fig.savefig(\"images/shieldedPair.svg\",transparent=True)\n",
    "        fig.savefig(\"images/shieldedPair.jpg\",dpi=300,transparent=True)"
   ]
  },
  {
   "cell_type": "markdown",
   "metadata": {
    "code_folding": []
   },
   "source": [
    "# References\n",
    "\n",
    "1. R. W. P. King, Transmission-Line Theory. New York: McGraw-Hill, 1955.\n",
    "1. J. R. Whinnery and T. Van Duzer with Simon. Ramo, Fields and Waves in Communication Electronics, 3rd ed. New York: Wiley, 1994.\n",
    "1. R. Plonsey and R. E. Collin, Principles and applications of electromagnetic fields. New York: McGraw-Hill, 1961.\n",
    "1. Hewlett-Packard, “Measuring Dielectric Constant with the HP 8510 Network Analyzer: The Measurement of both Permittivity and Permeability of Solid Materials,” Hewlett-Packard, Product Note 8510-3, Aug. 1985.\n",
    "1. A. Temme and E. Rothwell. \"Material Characterization using a Two-Wire Transmission Line,\" 2014 URSI North American Radio Science Meeting, Memphis, Tennessee, USA."
   ]
  }
 ],
 "metadata": {
  "hide_input": true,
  "kernelspec": {
   "display_name": "Python 2",
   "language": "python",
   "name": "python2"
  },
  "language_info": {
   "codemirror_mode": {
    "name": "ipython",
    "version": 2
   },
   "file_extension": ".py",
   "mimetype": "text/x-python",
   "name": "python",
   "nbconvert_exporter": "python",
   "pygments_lexer": "ipython2",
   "version": "2.7.10"
  }
 },
 "nbformat": 4,
 "nbformat_minor": 0
}
